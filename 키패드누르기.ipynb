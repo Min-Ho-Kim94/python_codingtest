{
 "cells": [
  {
   "cell_type": "code",
   "execution_count": 144,
   "id": "7b93569b-bb30-4e7a-94da-01de6a9112d5",
   "metadata": {},
   "outputs": [],
   "source": [
    "def solution(numbers, hand):\n",
    "    answer = []\n",
    "    num_cache_L = [\"*\"]\n",
    "    num_cache_R = [\"#\"]\n",
    "    left = [1,4,7]\n",
    "    right = [3,6,9]\n",
    "    both = [2,5,8,0]\n",
    "    keypad = {1 : (3,0),\n",
    "              2 : (3,1),\n",
    "              3 : (3,2),\n",
    "              4 : (2,0),\n",
    "              5 : (2,1),\n",
    "              6 : (2,2),\n",
    "              7 : (1,0),\n",
    "              8 : (1,1),\n",
    "              9 : (1,2),\n",
    "              \"*\" : (0,0),\n",
    "              0 : (0,1),\n",
    "              \"#\" : (0,2)}\n",
    "    for i, v in enumerate(numbers):\n",
    "        if v in left:\n",
    "            answer.append(\"L\")\n",
    "            num_cache_L.append(v)\n",
    "        elif v in right:\n",
    "            answer.append(\"R\")\n",
    "            num_cache_R.append(v)\n",
    "        else :\n",
    "            dist_L = (lambda i, prev : abs((keypad[v][0] - keypad[prev][0])) + abs((keypad[v][1] - keypad[prev][1])))(i, num_cache_L[-1])\n",
    "            dist_R = (lambda i, prev : abs((keypad[v][0] - keypad[prev][0])) + abs((keypad[v][1] - keypad[prev][1])))(i, num_cache_R[-1])\n",
    "            if dist_L > dist_R:\n",
    "                answer.append(\"R\")\n",
    "                num_cache_R.append(v)\n",
    "            elif dist_L < dist_R:\n",
    "                answer.append(\"L\")\n",
    "                num_cache_L.append(v)\n",
    "            elif dist_L == dist_R:\n",
    "                if hand == \"left\": \n",
    "                    answer.append(\"L\")\n",
    "                    num_cache_L.append(v)\n",
    "                else: \n",
    "                    answer.append(\"R\")\n",
    "                    num_cache_R.append(v)\n",
    "    answer = \"\".join(answer)\n",
    "    return answer"
   ]
  },
  {
   "cell_type": "code",
   "execution_count": 145,
   "id": "ef81b3ba-77a2-4382-9cc6-df17a790e2f6",
   "metadata": {},
   "outputs": [
    {
     "data": {
      "text/plain": [
       "'LRLLLRLLRRL'"
      ]
     },
     "execution_count": 145,
     "metadata": {},
     "output_type": "execute_result"
    }
   ],
   "source": [
    "solution([1, 3, 4, 5, 8, 2, 1, 4, 5, 9, 5], \"right\")"
   ]
  },
  {
   "cell_type": "code",
   "execution_count": 122,
   "id": "ac8d65b2-34b0-4fdb-899b-69080bc35c0e",
   "metadata": {},
   "outputs": [
    {
     "data": {
      "text/plain": [
       "False"
      ]
     },
     "execution_count": 122,
     "metadata": {},
     "output_type": "execute_result"
    }
   ],
   "source": [
    "[1] > [2]"
   ]
  }
 ],
 "metadata": {
  "jupytext": {
   "formats": "ipynb,auto:light"
  },
  "kernelspec": {
   "display_name": "cook",
   "language": "python",
   "name": "cook"
  },
  "language_info": {
   "codemirror_mode": {
    "name": "ipython",
    "version": 3
   },
   "file_extension": ".py",
   "mimetype": "text/x-python",
   "name": "python",
   "nbconvert_exporter": "python",
   "pygments_lexer": "ipython3",
   "version": "3.7.11"
  }
 },
 "nbformat": 4,
 "nbformat_minor": 5
}
