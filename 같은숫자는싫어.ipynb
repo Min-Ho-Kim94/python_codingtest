{
 "cells": [
  {
   "cell_type": "code",
   "execution_count": null,
   "id": "d777ae86-bd69-4dd4-9b63-0c7eb8ba6d0d",
   "metadata": {},
   "outputs": [],
   "source": [
    "def solution(arr):\n",
    "    answer = []\n",
    "    for i, v in enumerate(arr):\n",
    "        if i == 0:\n",
    "            answer.append(v)\n",
    "        elif v != arr[(i-1)]:\n",
    "            answer.append(v)\n",
    "    return answer"
   ]
  }
 ],
 "metadata": {
  "jupytext": {
   "formats": "ipynb,auto:light"
  },
  "kernelspec": {
   "display_name": "cook",
   "language": "python",
   "name": "cook"
  },
  "language_info": {
   "codemirror_mode": {
    "name": "ipython",
    "version": 3
   },
   "file_extension": ".py",
   "mimetype": "text/x-python",
   "name": "python",
   "nbconvert_exporter": "python",
   "pygments_lexer": "ipython3",
   "version": "3.7.11"
  }
 },
 "nbformat": 4,
 "nbformat_minor": 5
}
